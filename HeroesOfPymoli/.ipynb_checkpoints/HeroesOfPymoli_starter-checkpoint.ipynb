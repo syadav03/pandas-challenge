{
 "cells": [
  {
   "cell_type": "markdown",
   "metadata": {},
   "source": [
    "### Note\n",
    "* Instructions have been included for each segment. You do not have to follow them exactly, but they are included to help you think through the steps."
   ]
  },
  {
   "cell_type": "code",
   "execution_count": 1,
   "metadata": {},
   "outputs": [],
   "source": [
    "# Dependencies and Setup\n",
    "import pandas as pd\n",
    "\n",
    "# File to Load (Remember to Change These)\n",
    "file_to_load = \"Resources/purchase_data.csv\"\n",
    "\n",
    "# Read Purchasing File and store into Pandas data frame\n",
    "purchase_data = pd.read_csv(file_to_load)"
   ]
  },
  {
   "cell_type": "markdown",
   "metadata": {},
   "source": [
    "## Player Count"
   ]
  },
  {
   "cell_type": "markdown",
   "metadata": {},
   "source": [
    "* Display the total number of players\n"
   ]
  },
  {
   "cell_type": "code",
   "execution_count": 2,
   "metadata": {},
   "outputs": [
    {
     "data": {
      "text/html": [
       "<div>\n",
       "<style scoped>\n",
       "    .dataframe tbody tr th:only-of-type {\n",
       "        vertical-align: middle;\n",
       "    }\n",
       "\n",
       "    .dataframe tbody tr th {\n",
       "        vertical-align: top;\n",
       "    }\n",
       "\n",
       "    .dataframe thead th {\n",
       "        text-align: right;\n",
       "    }\n",
       "</style>\n",
       "<table border=\"1\" class=\"dataframe\">\n",
       "  <thead>\n",
       "    <tr style=\"text-align: right;\">\n",
       "      <th></th>\n",
       "      <th>Total Players</th>\n",
       "    </tr>\n",
       "  </thead>\n",
       "  <tbody>\n",
       "    <tr>\n",
       "      <th>0</th>\n",
       "      <td>576</td>\n",
       "    </tr>\n",
       "  </tbody>\n",
       "</table>\n",
       "</div>"
      ],
      "text/plain": [
       "   Total Players\n",
       "0            576"
      ]
     },
     "execution_count": 2,
     "metadata": {},
     "output_type": "execute_result"
    }
   ],
   "source": [
    "tot_players = purchase_data[\"SN\"].nunique()\n",
    "total_players_df =  pd.DataFrame({\"Total Players\": [tot_players]})\n",
    "total_players_df"
   ]
  },
  {
   "cell_type": "markdown",
   "metadata": {},
   "source": [
    "## Purchasing Analysis (Total)"
   ]
  },
  {
   "cell_type": "markdown",
   "metadata": {},
   "source": [
    "* Run basic calculations to obtain number of unique items, average price, etc.\n",
    "\n",
    "\n",
    "* Create a summary data frame to hold the results\n",
    "\n",
    "\n",
    "* Optional: give the displayed data cleaner formatting\n",
    "\n",
    "\n",
    "* Display the summary data frame\n"
   ]
  },
  {
   "cell_type": "code",
   "execution_count": 5,
   "metadata": {
    "scrolled": true
   },
   "outputs": [
    {
     "data": {
      "text/html": [
       "<style  type=\"text/css\" >\n",
       "</style><table id=\"T_c9430b5a_5e88_11eb_9a30_046c59686d01\" ><thead>    <tr>        <th class=\"blank level0\" ></th>        <th class=\"col_heading level0 col0\" >Number of Unique Items</th>        <th class=\"col_heading level0 col1\" >Average Price</th>        <th class=\"col_heading level0 col2\" >Number of Purchases</th>        <th class=\"col_heading level0 col3\" >Total Revenue</th>    </tr></thead><tbody>\n",
       "                <tr>\n",
       "                        <th id=\"T_c9430b5a_5e88_11eb_9a30_046c59686d01level0_row0\" class=\"row_heading level0 row0\" >0</th>\n",
       "                        <td id=\"T_c9430b5a_5e88_11eb_9a30_046c59686d01row0_col0\" class=\"data row0 col0\" >179</td>\n",
       "                        <td id=\"T_c9430b5a_5e88_11eb_9a30_046c59686d01row0_col1\" class=\"data row0 col1\" >$3.05</td>\n",
       "                        <td id=\"T_c9430b5a_5e88_11eb_9a30_046c59686d01row0_col2\" class=\"data row0 col2\" >780</td>\n",
       "                        <td id=\"T_c9430b5a_5e88_11eb_9a30_046c59686d01row0_col3\" class=\"data row0 col3\" >$2,379.77</td>\n",
       "            </tr>\n",
       "    </tbody></table>"
      ],
      "text/plain": [
       "<pandas.io.formats.style.Styler at 0x264f20a1340>"
      ]
     },
     "execution_count": 5,
     "metadata": {},
     "output_type": "execute_result"
    }
   ],
   "source": [
    "unique_items = purchase_data[\"Item ID\"].nunique()\n",
    "avg_price = purchase_data[\"Price\"].mean() \n",
    "number_purchases = purchase_data[\"Purchase ID\"].count()\n",
    "tot_revenue = purchase_data[\"Price\"].sum()\n",
    "\n",
    "purchasing_df = pd.DataFrame({\"Number of Unique Items\": [unique_items],\n",
    "                             \"Average Price\": [avg_price],\n",
    "                             \"Number of Purchases\": [number_purchases],\n",
    "                             \"Total Revenue\": [tot_revenue]})\n",
    "\n",
    "purchasing_df.style.format({\"Average Price\": \"${:,.2f}\", \"Total Revenue\" : \"${:,.2f}\"})\n",
    "\n"
   ]
  },
  {
   "cell_type": "markdown",
   "metadata": {},
   "source": [
    "## Gender Demographics"
   ]
  },
  {
   "cell_type": "markdown",
   "metadata": {},
   "source": [
    "* Percentage and Count of Male Players\n",
    "\n",
    "\n",
    "* Percentage and Count of Female Players\n",
    "\n",
    "\n",
    "* Percentage and Count of Other / Non-Disclosed\n",
    "\n",
    "\n"
   ]
  },
  {
   "cell_type": "code",
   "execution_count": 22,
   "metadata": {},
   "outputs": [
    {
     "data": {
      "text/html": [
       "<div>\n",
       "<style scoped>\n",
       "    .dataframe tbody tr th:only-of-type {\n",
       "        vertical-align: middle;\n",
       "    }\n",
       "\n",
       "    .dataframe tbody tr th {\n",
       "        vertical-align: top;\n",
       "    }\n",
       "\n",
       "    .dataframe thead th {\n",
       "        text-align: right;\n",
       "    }\n",
       "</style>\n",
       "<table border=\"1\" class=\"dataframe\">\n",
       "  <thead>\n",
       "    <tr style=\"text-align: right;\">\n",
       "      <th></th>\n",
       "      <th>Total Count</th>\n",
       "      <th>Percentage of Players</th>\n",
       "    </tr>\n",
       "    <tr>\n",
       "      <th>Gender</th>\n",
       "      <th></th>\n",
       "      <th></th>\n",
       "    </tr>\n",
       "  </thead>\n",
       "  <tbody>\n",
       "    <tr>\n",
       "      <th>Female</th>\n",
       "      <td>81</td>\n",
       "      <td>14.06%</td>\n",
       "    </tr>\n",
       "    <tr>\n",
       "      <th>Male</th>\n",
       "      <td>484</td>\n",
       "      <td>84.03%</td>\n",
       "    </tr>\n",
       "    <tr>\n",
       "      <th>Other / Non-Disclosed</th>\n",
       "      <td>11</td>\n",
       "      <td>1.91%</td>\n",
       "    </tr>\n",
       "  </tbody>\n",
       "</table>\n",
       "</div>"
      ],
      "text/plain": [
       "                       Total Count Percentage of Players\n",
       "Gender                                                  \n",
       "Female                          81                14.06%\n",
       "Male                           484                84.03%\n",
       "Other / Non-Disclosed           11                 1.91%"
      ]
     },
     "execution_count": 22,
     "metadata": {},
     "output_type": "execute_result"
    }
   ],
   "source": [
    "gender_data = purchase_data.groupby(\"Gender\")\n",
    "\n",
    "total_gender = gender_data.nunique()[\"SN\"]\n",
    "\n",
    "percentage_players = (total_gender/tot_players)*100\n",
    "\n",
    "gender_df = pd.DataFrame({\"Total Count\": total_gender,\n",
    "                         \"Percentage of Players\": percentage_players})\n",
    "gender_df[\"Percentage of Players\"] = gender_df[\"Percentage of Players\"].map(\"{:,.2f}%\".format)\n",
    "gender_df"
   ]
  },
  {
   "cell_type": "markdown",
   "metadata": {},
   "source": [
    "\n",
    "## Purchasing Analysis (Gender)"
   ]
  },
  {
   "cell_type": "markdown",
   "metadata": {},
   "source": [
    "* Run basic calculations to obtain purchase count, avg. purchase price, avg. purchase total per person etc. by gender\n",
    "\n",
    "\n",
    "\n",
    "\n",
    "* Create a summary data frame to hold the results\n",
    "\n",
    "\n",
    "* Optional: give the displayed data cleaner formatting\n",
    "\n",
    "\n",
    "* Display the summary data frame"
   ]
  },
  {
   "cell_type": "code",
   "execution_count": 9,
   "metadata": {},
   "outputs": [
    {
     "data": {
      "text/html": [
       "<style  type=\"text/css\" >\n",
       "</style><table id=\"T_2b81d3ca_5e89_11eb_96ce_046c59686d01\" ><thead>    <tr>        <th class=\"blank level0\" ></th>        <th class=\"col_heading level0 col0\" >Purchase Count</th>        <th class=\"col_heading level0 col1\" >Average Purchase Price</th>        <th class=\"col_heading level0 col2\" >Total Purchase Value</th>        <th class=\"col_heading level0 col3\" >Avg Total Purchase per Person</th>    </tr>    <tr>        <th class=\"index_name level0\" >Gender</th>        <th class=\"blank\" ></th>        <th class=\"blank\" ></th>        <th class=\"blank\" ></th>        <th class=\"blank\" ></th>    </tr></thead><tbody>\n",
       "                <tr>\n",
       "                        <th id=\"T_2b81d3ca_5e89_11eb_96ce_046c59686d01level0_row0\" class=\"row_heading level0 row0\" >Female</th>\n",
       "                        <td id=\"T_2b81d3ca_5e89_11eb_96ce_046c59686d01row0_col0\" class=\"data row0 col0\" >113</td>\n",
       "                        <td id=\"T_2b81d3ca_5e89_11eb_96ce_046c59686d01row0_col1\" class=\"data row0 col1\" >$3.20</td>\n",
       "                        <td id=\"T_2b81d3ca_5e89_11eb_96ce_046c59686d01row0_col2\" class=\"data row0 col2\" >$361.94</td>\n",
       "                        <td id=\"T_2b81d3ca_5e89_11eb_96ce_046c59686d01row0_col3\" class=\"data row0 col3\" >$4.47</td>\n",
       "            </tr>\n",
       "            <tr>\n",
       "                        <th id=\"T_2b81d3ca_5e89_11eb_96ce_046c59686d01level0_row1\" class=\"row_heading level0 row1\" >Male</th>\n",
       "                        <td id=\"T_2b81d3ca_5e89_11eb_96ce_046c59686d01row1_col0\" class=\"data row1 col0\" >652</td>\n",
       "                        <td id=\"T_2b81d3ca_5e89_11eb_96ce_046c59686d01row1_col1\" class=\"data row1 col1\" >$3.02</td>\n",
       "                        <td id=\"T_2b81d3ca_5e89_11eb_96ce_046c59686d01row1_col2\" class=\"data row1 col2\" >$1,967.64</td>\n",
       "                        <td id=\"T_2b81d3ca_5e89_11eb_96ce_046c59686d01row1_col3\" class=\"data row1 col3\" >$4.07</td>\n",
       "            </tr>\n",
       "            <tr>\n",
       "                        <th id=\"T_2b81d3ca_5e89_11eb_96ce_046c59686d01level0_row2\" class=\"row_heading level0 row2\" >Other / Non-Disclosed</th>\n",
       "                        <td id=\"T_2b81d3ca_5e89_11eb_96ce_046c59686d01row2_col0\" class=\"data row2 col0\" >15</td>\n",
       "                        <td id=\"T_2b81d3ca_5e89_11eb_96ce_046c59686d01row2_col1\" class=\"data row2 col1\" >$3.35</td>\n",
       "                        <td id=\"T_2b81d3ca_5e89_11eb_96ce_046c59686d01row2_col2\" class=\"data row2 col2\" >$50.19</td>\n",
       "                        <td id=\"T_2b81d3ca_5e89_11eb_96ce_046c59686d01row2_col3\" class=\"data row2 col3\" >$4.56</td>\n",
       "            </tr>\n",
       "    </tbody></table>"
      ],
      "text/plain": [
       "<pandas.io.formats.style.Styler at 0x264f41599d0>"
      ]
     },
     "execution_count": 9,
     "metadata": {},
     "output_type": "execute_result"
    }
   ],
   "source": [
    "purchase_count_gender = gender_data[\"Purchase ID\"].count()\n",
    "\n",
    "avg_purchase = gender_data[\"Price\"].mean()\n",
    "\n",
    "avg_purchase_total = gender_data[\"Price\"].sum()\n",
    "\n",
    "avg_purchase_person = avg_purchase_total/total_gender\n",
    "\n",
    "gender_df = pd.DataFrame({\"Purchase Count\": purchase_count_gender, \n",
    "                         \"Average Purchase Price\": avg_purchase,\n",
    "                         \"Total Purchase Value\": avg_purchase_total,\n",
    "                         \"Avg Total Purchase per Person\": avg_purchase_person})\n",
    "\n",
    "gender_df.index.name = \"Gender\"\n",
    "gender_df.style.format({\"Average Purchase Price\": \"${:,.2f}\", \"Total Purchase Value\" : \"${:,.2f}\", \"Avg Total Purchase per Person\": \"${:,.2f}\"})"
   ]
  },
  {
   "cell_type": "markdown",
   "metadata": {},
   "source": [
    "## Age Demographics"
   ]
  },
  {
   "cell_type": "markdown",
   "metadata": {},
   "source": [
    "* Establish bins for ages\n",
    "\n",
    "\n",
    "* Categorize the existing players using the age bins. Hint: use pd.cut()\n",
    "\n",
    "\n",
    "* Calculate the numbers and percentages by age group\n",
    "\n",
    "\n",
    "* Create a summary data frame to hold the results\n",
    "\n",
    "\n",
    "* Optional: round the percentage column to two decimal points\n",
    "\n",
    "\n",
    "* Display Age Demographics Table\n"
   ]
  },
  {
   "cell_type": "code",
   "execution_count": 10,
   "metadata": {},
   "outputs": [
    {
     "data": {
      "text/html": [
       "<style  type=\"text/css\" >\n",
       "</style><table id=\"T_514257a9_5e89_11eb_987d_046c59686d01\" ><thead>    <tr>        <th class=\"blank level0\" ></th>        <th class=\"col_heading level0 col0\" >Total Count</th>        <th class=\"col_heading level0 col1\" >Percentage of Players</th>    </tr>    <tr>        <th class=\"index_name level0\" >Age Group</th>        <th class=\"blank\" ></th>        <th class=\"blank\" ></th>    </tr></thead><tbody>\n",
       "                <tr>\n",
       "                        <th id=\"T_514257a9_5e89_11eb_987d_046c59686d01level0_row0\" class=\"row_heading level0 row0\" ><10</th>\n",
       "                        <td id=\"T_514257a9_5e89_11eb_987d_046c59686d01row0_col0\" class=\"data row0 col0\" >17</td>\n",
       "                        <td id=\"T_514257a9_5e89_11eb_987d_046c59686d01row0_col1\" class=\"data row0 col1\" >2.95%</td>\n",
       "            </tr>\n",
       "            <tr>\n",
       "                        <th id=\"T_514257a9_5e89_11eb_987d_046c59686d01level0_row1\" class=\"row_heading level0 row1\" >10-14</th>\n",
       "                        <td id=\"T_514257a9_5e89_11eb_987d_046c59686d01row1_col0\" class=\"data row1 col0\" >22</td>\n",
       "                        <td id=\"T_514257a9_5e89_11eb_987d_046c59686d01row1_col1\" class=\"data row1 col1\" >3.82%</td>\n",
       "            </tr>\n",
       "            <tr>\n",
       "                        <th id=\"T_514257a9_5e89_11eb_987d_046c59686d01level0_row2\" class=\"row_heading level0 row2\" >15-19</th>\n",
       "                        <td id=\"T_514257a9_5e89_11eb_987d_046c59686d01row2_col0\" class=\"data row2 col0\" >107</td>\n",
       "                        <td id=\"T_514257a9_5e89_11eb_987d_046c59686d01row2_col1\" class=\"data row2 col1\" >18.58%</td>\n",
       "            </tr>\n",
       "            <tr>\n",
       "                        <th id=\"T_514257a9_5e89_11eb_987d_046c59686d01level0_row3\" class=\"row_heading level0 row3\" >20-24</th>\n",
       "                        <td id=\"T_514257a9_5e89_11eb_987d_046c59686d01row3_col0\" class=\"data row3 col0\" >258</td>\n",
       "                        <td id=\"T_514257a9_5e89_11eb_987d_046c59686d01row3_col1\" class=\"data row3 col1\" >44.79%</td>\n",
       "            </tr>\n",
       "            <tr>\n",
       "                        <th id=\"T_514257a9_5e89_11eb_987d_046c59686d01level0_row4\" class=\"row_heading level0 row4\" >25-29</th>\n",
       "                        <td id=\"T_514257a9_5e89_11eb_987d_046c59686d01row4_col0\" class=\"data row4 col0\" >77</td>\n",
       "                        <td id=\"T_514257a9_5e89_11eb_987d_046c59686d01row4_col1\" class=\"data row4 col1\" >13.37%</td>\n",
       "            </tr>\n",
       "            <tr>\n",
       "                        <th id=\"T_514257a9_5e89_11eb_987d_046c59686d01level0_row5\" class=\"row_heading level0 row5\" >30-34</th>\n",
       "                        <td id=\"T_514257a9_5e89_11eb_987d_046c59686d01row5_col0\" class=\"data row5 col0\" >52</td>\n",
       "                        <td id=\"T_514257a9_5e89_11eb_987d_046c59686d01row5_col1\" class=\"data row5 col1\" >9.03%</td>\n",
       "            </tr>\n",
       "            <tr>\n",
       "                        <th id=\"T_514257a9_5e89_11eb_987d_046c59686d01level0_row6\" class=\"row_heading level0 row6\" >35-39</th>\n",
       "                        <td id=\"T_514257a9_5e89_11eb_987d_046c59686d01row6_col0\" class=\"data row6 col0\" >31</td>\n",
       "                        <td id=\"T_514257a9_5e89_11eb_987d_046c59686d01row6_col1\" class=\"data row6 col1\" >5.38%</td>\n",
       "            </tr>\n",
       "            <tr>\n",
       "                        <th id=\"T_514257a9_5e89_11eb_987d_046c59686d01level0_row7\" class=\"row_heading level0 row7\" >40+</th>\n",
       "                        <td id=\"T_514257a9_5e89_11eb_987d_046c59686d01row7_col0\" class=\"data row7 col0\" >12</td>\n",
       "                        <td id=\"T_514257a9_5e89_11eb_987d_046c59686d01row7_col1\" class=\"data row7 col1\" >2.08%</td>\n",
       "            </tr>\n",
       "    </tbody></table>"
      ],
      "text/plain": [
       "<pandas.io.formats.style.Styler at 0x264f53d0e20>"
      ]
     },
     "execution_count": 10,
     "metadata": {},
     "output_type": "execute_result"
    }
   ],
   "source": [
    "bins_age = [0,9.99,14.99,19.99,24.99,29.99,34.99,39.99,9999999]\n",
    "age_groups = [\"<10\", \"10-14\", \"15-19\", \"20-24\", \"25-29\",\"30-34\",\"35-39\",\"40+\"]\n",
    "\n",
    "purchase_data[\"Age Group\"] = pd.cut(purchase_data[\"Age\"], bins_age, labels= age_groups)\n",
    "purchase_data\n",
    "\n",
    "age_groups = purchase_data.groupby(\"Age Group\")\n",
    "\n",
    "total_age = age_groups[\"SN\"].nunique()\n",
    "\n",
    "percent_age = (total_age/tot_players)*100\n",
    "\n",
    "age_df = pd.DataFrame({\"Total Count\": total_age, \"Percentage of Players\": percent_age})\n",
    "age_df.style.format({\"Percentage of Players\" : \"{:,.2f}%\"})"
   ]
  },
  {
   "cell_type": "markdown",
   "metadata": {},
   "source": [
    "## Purchasing Analysis (Age)"
   ]
  },
  {
   "cell_type": "markdown",
   "metadata": {},
   "source": [
    "* Bin the purchase_data data frame by age\n",
    "\n",
    "\n",
    "* Run basic calculations to obtain purchase count, avg. purchase price, avg. purchase total per person etc. in the table below\n",
    "\n",
    "\n",
    "* Create a summary data frame to hold the results\n",
    "\n",
    "\n",
    "* Optional: give the displayed data cleaner formatting\n",
    "\n",
    "\n",
    "* Display the summary data frame"
   ]
  },
  {
   "cell_type": "code",
   "execution_count": 13,
   "metadata": {},
   "outputs": [
    {
     "data": {
      "text/html": [
       "<style  type=\"text/css\" >\n",
       "</style><table id=\"T_9512d890_5e89_11eb_870e_046c59686d01\" ><thead>    <tr>        <th class=\"blank level0\" ></th>        <th class=\"col_heading level0 col0\" >Purchase Count</th>        <th class=\"col_heading level0 col1\" >Average Purchase Price</th>        <th class=\"col_heading level0 col2\" >Total Purchase Value</th>        <th class=\"col_heading level0 col3\" >Avg Total Purchase per Person</th>    </tr>    <tr>        <th class=\"index_name level0\" >Age Group</th>        <th class=\"blank\" ></th>        <th class=\"blank\" ></th>        <th class=\"blank\" ></th>        <th class=\"blank\" ></th>    </tr></thead><tbody>\n",
       "                <tr>\n",
       "                        <th id=\"T_9512d890_5e89_11eb_870e_046c59686d01level0_row0\" class=\"row_heading level0 row0\" ><10</th>\n",
       "                        <td id=\"T_9512d890_5e89_11eb_870e_046c59686d01row0_col0\" class=\"data row0 col0\" >23</td>\n",
       "                        <td id=\"T_9512d890_5e89_11eb_870e_046c59686d01row0_col1\" class=\"data row0 col1\" >$3.35</td>\n",
       "                        <td id=\"T_9512d890_5e89_11eb_870e_046c59686d01row0_col2\" class=\"data row0 col2\" >$77.13</td>\n",
       "                        <td id=\"T_9512d890_5e89_11eb_870e_046c59686d01row0_col3\" class=\"data row0 col3\" >$4.54</td>\n",
       "            </tr>\n",
       "            <tr>\n",
       "                        <th id=\"T_9512d890_5e89_11eb_870e_046c59686d01level0_row1\" class=\"row_heading level0 row1\" >10-14</th>\n",
       "                        <td id=\"T_9512d890_5e89_11eb_870e_046c59686d01row1_col0\" class=\"data row1 col0\" >28</td>\n",
       "                        <td id=\"T_9512d890_5e89_11eb_870e_046c59686d01row1_col1\" class=\"data row1 col1\" >$2.96</td>\n",
       "                        <td id=\"T_9512d890_5e89_11eb_870e_046c59686d01row1_col2\" class=\"data row1 col2\" >$82.78</td>\n",
       "                        <td id=\"T_9512d890_5e89_11eb_870e_046c59686d01row1_col3\" class=\"data row1 col3\" >$3.76</td>\n",
       "            </tr>\n",
       "            <tr>\n",
       "                        <th id=\"T_9512d890_5e89_11eb_870e_046c59686d01level0_row2\" class=\"row_heading level0 row2\" >15-19</th>\n",
       "                        <td id=\"T_9512d890_5e89_11eb_870e_046c59686d01row2_col0\" class=\"data row2 col0\" >136</td>\n",
       "                        <td id=\"T_9512d890_5e89_11eb_870e_046c59686d01row2_col1\" class=\"data row2 col1\" >$3.04</td>\n",
       "                        <td id=\"T_9512d890_5e89_11eb_870e_046c59686d01row2_col2\" class=\"data row2 col2\" >$412.89</td>\n",
       "                        <td id=\"T_9512d890_5e89_11eb_870e_046c59686d01row2_col3\" class=\"data row2 col3\" >$3.86</td>\n",
       "            </tr>\n",
       "            <tr>\n",
       "                        <th id=\"T_9512d890_5e89_11eb_870e_046c59686d01level0_row3\" class=\"row_heading level0 row3\" >20-24</th>\n",
       "                        <td id=\"T_9512d890_5e89_11eb_870e_046c59686d01row3_col0\" class=\"data row3 col0\" >365</td>\n",
       "                        <td id=\"T_9512d890_5e89_11eb_870e_046c59686d01row3_col1\" class=\"data row3 col1\" >$3.05</td>\n",
       "                        <td id=\"T_9512d890_5e89_11eb_870e_046c59686d01row3_col2\" class=\"data row3 col2\" >$1,114.06</td>\n",
       "                        <td id=\"T_9512d890_5e89_11eb_870e_046c59686d01row3_col3\" class=\"data row3 col3\" >$4.32</td>\n",
       "            </tr>\n",
       "            <tr>\n",
       "                        <th id=\"T_9512d890_5e89_11eb_870e_046c59686d01level0_row4\" class=\"row_heading level0 row4\" >25-29</th>\n",
       "                        <td id=\"T_9512d890_5e89_11eb_870e_046c59686d01row4_col0\" class=\"data row4 col0\" >101</td>\n",
       "                        <td id=\"T_9512d890_5e89_11eb_870e_046c59686d01row4_col1\" class=\"data row4 col1\" >$2.90</td>\n",
       "                        <td id=\"T_9512d890_5e89_11eb_870e_046c59686d01row4_col2\" class=\"data row4 col2\" >$293.00</td>\n",
       "                        <td id=\"T_9512d890_5e89_11eb_870e_046c59686d01row4_col3\" class=\"data row4 col3\" >$3.81</td>\n",
       "            </tr>\n",
       "            <tr>\n",
       "                        <th id=\"T_9512d890_5e89_11eb_870e_046c59686d01level0_row5\" class=\"row_heading level0 row5\" >30-34</th>\n",
       "                        <td id=\"T_9512d890_5e89_11eb_870e_046c59686d01row5_col0\" class=\"data row5 col0\" >73</td>\n",
       "                        <td id=\"T_9512d890_5e89_11eb_870e_046c59686d01row5_col1\" class=\"data row5 col1\" >$2.93</td>\n",
       "                        <td id=\"T_9512d890_5e89_11eb_870e_046c59686d01row5_col2\" class=\"data row5 col2\" >$214.00</td>\n",
       "                        <td id=\"T_9512d890_5e89_11eb_870e_046c59686d01row5_col3\" class=\"data row5 col3\" >$4.12</td>\n",
       "            </tr>\n",
       "            <tr>\n",
       "                        <th id=\"T_9512d890_5e89_11eb_870e_046c59686d01level0_row6\" class=\"row_heading level0 row6\" >35-39</th>\n",
       "                        <td id=\"T_9512d890_5e89_11eb_870e_046c59686d01row6_col0\" class=\"data row6 col0\" >41</td>\n",
       "                        <td id=\"T_9512d890_5e89_11eb_870e_046c59686d01row6_col1\" class=\"data row6 col1\" >$3.60</td>\n",
       "                        <td id=\"T_9512d890_5e89_11eb_870e_046c59686d01row6_col2\" class=\"data row6 col2\" >$147.67</td>\n",
       "                        <td id=\"T_9512d890_5e89_11eb_870e_046c59686d01row6_col3\" class=\"data row6 col3\" >$4.76</td>\n",
       "            </tr>\n",
       "            <tr>\n",
       "                        <th id=\"T_9512d890_5e89_11eb_870e_046c59686d01level0_row7\" class=\"row_heading level0 row7\" >40+</th>\n",
       "                        <td id=\"T_9512d890_5e89_11eb_870e_046c59686d01row7_col0\" class=\"data row7 col0\" >13</td>\n",
       "                        <td id=\"T_9512d890_5e89_11eb_870e_046c59686d01row7_col1\" class=\"data row7 col1\" >$2.94</td>\n",
       "                        <td id=\"T_9512d890_5e89_11eb_870e_046c59686d01row7_col2\" class=\"data row7 col2\" >$38.24</td>\n",
       "                        <td id=\"T_9512d890_5e89_11eb_870e_046c59686d01row7_col3\" class=\"data row7 col3\" >$3.19</td>\n",
       "            </tr>\n",
       "    </tbody></table>"
      ],
      "text/plain": [
       "<pandas.io.formats.style.Styler at 0x264f53ddfd0>"
      ]
     },
     "execution_count": 13,
     "metadata": {},
     "output_type": "execute_result"
    }
   ],
   "source": [
    "purchase_age = age_groups[\"Purchase ID\"].count()\n",
    "\n",
    "avg_price_age = age_groups[\"Price\"].mean()\n",
    "\n",
    "total_value = age_groups[\"Price\"].sum()\n",
    "\n",
    "avg_purchase_person_age = total_value/total_age\n",
    "\n",
    "price_age_df = pd.DataFrame({\"Purchase Count\": purchase_age, \"Average Purchase Price\": avg_price_age, \n",
    "                             \"Total Purchase Value\": total_value,\n",
    "                             \"Avg Total Purchase per Person\": avg_purchase_person_age})\n",
    "\n",
    "price_age_df.style.format({\"Average Purchase Price\": \"${:,.2f}\", \"Total Purchase Value\" : \"${:,.2f}\", \"Avg Total Purchase per Person\": \"${:,.2f}\"})"
   ]
  },
  {
   "cell_type": "markdown",
   "metadata": {},
   "source": [
    "## Top Spenders"
   ]
  },
  {
   "cell_type": "markdown",
   "metadata": {},
   "source": [
    "* Run basic calculations to obtain the results in the table below\n",
    "\n",
    "\n",
    "* Create a summary data frame to hold the results\n",
    "\n",
    "\n",
    "* Sort the total purchase value column in descending order\n",
    "\n",
    "\n",
    "* Optional: give the displayed data cleaner formatting\n",
    "\n",
    "\n",
    "* Display a preview of the summary data frame\n",
    "\n"
   ]
  },
  {
   "cell_type": "code",
   "execution_count": 21,
   "metadata": {},
   "outputs": [
    {
     "data": {
      "text/html": [
       "<div>\n",
       "<style scoped>\n",
       "    .dataframe tbody tr th:only-of-type {\n",
       "        vertical-align: middle;\n",
       "    }\n",
       "\n",
       "    .dataframe tbody tr th {\n",
       "        vertical-align: top;\n",
       "    }\n",
       "\n",
       "    .dataframe thead th {\n",
       "        text-align: right;\n",
       "    }\n",
       "</style>\n",
       "<table border=\"1\" class=\"dataframe\">\n",
       "  <thead>\n",
       "    <tr style=\"text-align: right;\">\n",
       "      <th></th>\n",
       "      <th>Purchase Count</th>\n",
       "      <th>Average Purchase Price</th>\n",
       "      <th>Total Purchase Value</th>\n",
       "    </tr>\n",
       "    <tr>\n",
       "      <th>SN</th>\n",
       "      <th></th>\n",
       "      <th></th>\n",
       "      <th></th>\n",
       "    </tr>\n",
       "  </thead>\n",
       "  <tbody>\n",
       "    <tr>\n",
       "      <th>Lisosia93</th>\n",
       "      <td>5</td>\n",
       "      <td>$3.79</td>\n",
       "      <td>$18.96</td>\n",
       "    </tr>\n",
       "    <tr>\n",
       "      <th>Idastidru52</th>\n",
       "      <td>4</td>\n",
       "      <td>$3.86</td>\n",
       "      <td>$15.45</td>\n",
       "    </tr>\n",
       "    <tr>\n",
       "      <th>Chamjask73</th>\n",
       "      <td>3</td>\n",
       "      <td>$4.61</td>\n",
       "      <td>$13.83</td>\n",
       "    </tr>\n",
       "    <tr>\n",
       "      <th>Iral74</th>\n",
       "      <td>4</td>\n",
       "      <td>$3.40</td>\n",
       "      <td>$13.62</td>\n",
       "    </tr>\n",
       "    <tr>\n",
       "      <th>Iskadarya95</th>\n",
       "      <td>3</td>\n",
       "      <td>$4.37</td>\n",
       "      <td>$13.10</td>\n",
       "    </tr>\n",
       "  </tbody>\n",
       "</table>\n",
       "</div>"
      ],
      "text/plain": [
       "             Purchase Count Average Purchase Price Total Purchase Value\n",
       "SN                                                                     \n",
       "Lisosia93                 5                  $3.79               $18.96\n",
       "Idastidru52               4                  $3.86               $15.45\n",
       "Chamjask73                3                  $4.61               $13.83\n",
       "Iral74                    4                  $3.40               $13.62\n",
       "Iskadarya95               3                  $4.37               $13.10"
      ]
     },
     "execution_count": 21,
     "metadata": {},
     "output_type": "execute_result"
    }
   ],
   "source": [
    "top_spenders = purchase_data.groupby(\"SN\")\n",
    "\n",
    "purchase_spenders = top_spenders[\"Purchase ID\"].count()\n",
    "\n",
    "avg_purchase_spenders = top_spenders[\"Price\"].mean()\n",
    "\n",
    "total_purchase_spender = top_spenders[\"Price\"].sum()\n",
    "\n",
    "top_spenders_df = pd.DataFrame({\"Purchase Count\": purchase_spenders, \n",
    "                   \"Average Purchase Price\": avg_purchase_spenders,\n",
    "                   \"Total Purchase Value\": total_purchase_spender})\n",
    "\n",
    "top_5 = top_spenders_df.sort_values([\"Total Purchase Value\"], ascending = False)\n",
    "top_5[\"Average Purchase Price\"] = top_5[\"Average Purchase Price\"].map(\"${:,.2f}\".format)\n",
    "\n",
    "top_5[\"Total Purchase Value\"] = top_5[\"Total Purchase Value\"].map(\"${:,.2f}\".format)\n",
    "top_5.head()"
   ]
  },
  {
   "cell_type": "markdown",
   "metadata": {},
   "source": [
    "## Most Popular Items"
   ]
  },
  {
   "cell_type": "markdown",
   "metadata": {},
   "source": [
    "* Retrieve the Item ID, Item Name, and Item Price columns\n",
    "\n",
    "\n",
    "* Group by Item ID and Item Name. Perform calculations to obtain purchase count, average item price, and total purchase value\n",
    "\n",
    "\n",
    "* Create a summary data frame to hold the results\n",
    "\n",
    "\n",
    "* Sort the purchase count column in descending order\n",
    "\n",
    "\n",
    "* Optional: give the displayed data cleaner formatting\n",
    "\n",
    "\n",
    "* Display a preview of the summary data frame\n",
    "\n"
   ]
  },
  {
   "cell_type": "code",
   "execution_count": 19,
   "metadata": {},
   "outputs": [
    {
     "data": {
      "text/html": [
       "<div>\n",
       "<style scoped>\n",
       "    .dataframe tbody tr th:only-of-type {\n",
       "        vertical-align: middle;\n",
       "    }\n",
       "\n",
       "    .dataframe tbody tr th {\n",
       "        vertical-align: top;\n",
       "    }\n",
       "\n",
       "    .dataframe thead th {\n",
       "        text-align: right;\n",
       "    }\n",
       "</style>\n",
       "<table border=\"1\" class=\"dataframe\">\n",
       "  <thead>\n",
       "    <tr style=\"text-align: right;\">\n",
       "      <th></th>\n",
       "      <th></th>\n",
       "      <th>Purchase Count</th>\n",
       "      <th>Item Price</th>\n",
       "      <th>Total Purchase Value</th>\n",
       "    </tr>\n",
       "    <tr>\n",
       "      <th>Item ID</th>\n",
       "      <th>Item Name</th>\n",
       "      <th></th>\n",
       "      <th></th>\n",
       "      <th></th>\n",
       "    </tr>\n",
       "  </thead>\n",
       "  <tbody>\n",
       "    <tr>\n",
       "      <th>92</th>\n",
       "      <th>Final Critic</th>\n",
       "      <td>13</td>\n",
       "      <td>$4.61</td>\n",
       "      <td>$59.99</td>\n",
       "    </tr>\n",
       "    <tr>\n",
       "      <th>178</th>\n",
       "      <th>Oathbreaker, Last Hope of the Breaking Storm</th>\n",
       "      <td>12</td>\n",
       "      <td>$4.23</td>\n",
       "      <td>$50.76</td>\n",
       "    </tr>\n",
       "    <tr>\n",
       "      <th>145</th>\n",
       "      <th>Fiery Glass Crusader</th>\n",
       "      <td>9</td>\n",
       "      <td>$4.58</td>\n",
       "      <td>$41.22</td>\n",
       "    </tr>\n",
       "    <tr>\n",
       "      <th>132</th>\n",
       "      <th>Persuasion</th>\n",
       "      <td>9</td>\n",
       "      <td>$3.22</td>\n",
       "      <td>$28.99</td>\n",
       "    </tr>\n",
       "    <tr>\n",
       "      <th>108</th>\n",
       "      <th>Extraction, Quickblade Of Trembling Hands</th>\n",
       "      <td>9</td>\n",
       "      <td>$3.53</td>\n",
       "      <td>$31.77</td>\n",
       "    </tr>\n",
       "  </tbody>\n",
       "</table>\n",
       "</div>"
      ],
      "text/plain": [
       "                                                      Purchase Count  \\\n",
       "Item ID Item Name                                                      \n",
       "92      Final Critic                                              13   \n",
       "178     Oathbreaker, Last Hope of the Breaking Storm              12   \n",
       "145     Fiery Glass Crusader                                       9   \n",
       "132     Persuasion                                                 9   \n",
       "108     Extraction, Quickblade Of Trembling Hands                  9   \n",
       "\n",
       "                                                     Item Price  \\\n",
       "Item ID Item Name                                                 \n",
       "92      Final Critic                                      $4.61   \n",
       "178     Oathbreaker, Last Hope of the Breaking Storm      $4.23   \n",
       "145     Fiery Glass Crusader                              $4.58   \n",
       "132     Persuasion                                        $3.22   \n",
       "108     Extraction, Quickblade Of Trembling Hands         $3.53   \n",
       "\n",
       "                                                     Total Purchase Value  \n",
       "Item ID Item Name                                                          \n",
       "92      Final Critic                                               $59.99  \n",
       "178     Oathbreaker, Last Hope of the Breaking Storm               $50.76  \n",
       "145     Fiery Glass Crusader                                       $41.22  \n",
       "132     Persuasion                                                 $28.99  \n",
       "108     Extraction, Quickblade Of Trembling Hands                  $31.77  "
      ]
     },
     "execution_count": 19,
     "metadata": {},
     "output_type": "execute_result"
    }
   ],
   "source": [
    "\n",
    "items_data = purchase_data.groupby([\"Item ID\", \"Item Name\"])\n",
    "\n",
    "purchase_item_count = items_data[\"Price\"].count()\n",
    "\n",
    "purchase_value = items_data[\"Price\"].sum()\n",
    "\n",
    "item_price = purchase_value/ purchase_item_count\n",
    "\n",
    "popular_items_df = pd.DataFrame({\"Purchase Count\": purchase_item_count, \n",
    "                                \"Item Price\":item_price,\n",
    "                                \"Total Purchase Value\": purchase_value})\n",
    "most_popular_df = popular_items_df.sort_values([\"Purchase Count\"], ascending = False)\n",
    "\n",
    "most_popular_df[\"Item Price\"] = most_popular_df[\"Item Price\"].map(\"${:,.2f}\".format)\n",
    "\n",
    "most_popular_df[\"Total Purchase Value\"] = most_popular_df[\"Total Purchase Value\"].map(\"${:,.2f}\".format)\n",
    "most_popular_df.head()"
   ]
  },
  {
   "cell_type": "markdown",
   "metadata": {},
   "source": [
    "## Most Profitable Items"
   ]
  },
  {
   "cell_type": "markdown",
   "metadata": {},
   "source": [
    "* Sort the above table by total purchase value in descending order\n",
    "\n",
    "\n",
    "* Optional: give the displayed data cleaner formatting\n",
    "\n",
    "\n",
    "* Display a preview of the data frame\n",
    "\n"
   ]
  },
  {
   "cell_type": "code",
   "execution_count": 20,
   "metadata": {
    "scrolled": true
   },
   "outputs": [
    {
     "data": {
      "text/html": [
       "<div>\n",
       "<style scoped>\n",
       "    .dataframe tbody tr th:only-of-type {\n",
       "        vertical-align: middle;\n",
       "    }\n",
       "\n",
       "    .dataframe tbody tr th {\n",
       "        vertical-align: top;\n",
       "    }\n",
       "\n",
       "    .dataframe thead th {\n",
       "        text-align: right;\n",
       "    }\n",
       "</style>\n",
       "<table border=\"1\" class=\"dataframe\">\n",
       "  <thead>\n",
       "    <tr style=\"text-align: right;\">\n",
       "      <th></th>\n",
       "      <th></th>\n",
       "      <th>Purchase Count</th>\n",
       "      <th>Item Price</th>\n",
       "      <th>Total Purchase Value</th>\n",
       "    </tr>\n",
       "    <tr>\n",
       "      <th>Item ID</th>\n",
       "      <th>Item Name</th>\n",
       "      <th></th>\n",
       "      <th></th>\n",
       "      <th></th>\n",
       "    </tr>\n",
       "  </thead>\n",
       "  <tbody>\n",
       "    <tr>\n",
       "      <th>92</th>\n",
       "      <th>Final Critic</th>\n",
       "      <td>13</td>\n",
       "      <td>$4.61</td>\n",
       "      <td>$59.99</td>\n",
       "    </tr>\n",
       "    <tr>\n",
       "      <th>178</th>\n",
       "      <th>Oathbreaker, Last Hope of the Breaking Storm</th>\n",
       "      <td>12</td>\n",
       "      <td>$4.23</td>\n",
       "      <td>$50.76</td>\n",
       "    </tr>\n",
       "    <tr>\n",
       "      <th>82</th>\n",
       "      <th>Nirvana</th>\n",
       "      <td>9</td>\n",
       "      <td>$4.90</td>\n",
       "      <td>$44.10</td>\n",
       "    </tr>\n",
       "    <tr>\n",
       "      <th>145</th>\n",
       "      <th>Fiery Glass Crusader</th>\n",
       "      <td>9</td>\n",
       "      <td>$4.58</td>\n",
       "      <td>$41.22</td>\n",
       "    </tr>\n",
       "    <tr>\n",
       "      <th>103</th>\n",
       "      <th>Singed Scalpel</th>\n",
       "      <td>8</td>\n",
       "      <td>$4.35</td>\n",
       "      <td>$34.80</td>\n",
       "    </tr>\n",
       "  </tbody>\n",
       "</table>\n",
       "</div>"
      ],
      "text/plain": [
       "                                                      Purchase Count  \\\n",
       "Item ID Item Name                                                      \n",
       "92      Final Critic                                              13   \n",
       "178     Oathbreaker, Last Hope of the Breaking Storm              12   \n",
       "82      Nirvana                                                    9   \n",
       "145     Fiery Glass Crusader                                       9   \n",
       "103     Singed Scalpel                                             8   \n",
       "\n",
       "                                                     Item Price  \\\n",
       "Item ID Item Name                                                 \n",
       "92      Final Critic                                      $4.61   \n",
       "178     Oathbreaker, Last Hope of the Breaking Storm      $4.23   \n",
       "82      Nirvana                                           $4.90   \n",
       "145     Fiery Glass Crusader                              $4.58   \n",
       "103     Singed Scalpel                                    $4.35   \n",
       "\n",
       "                                                     Total Purchase Value  \n",
       "Item ID Item Name                                                          \n",
       "92      Final Critic                                               $59.99  \n",
       "178     Oathbreaker, Last Hope of the Breaking Storm               $50.76  \n",
       "82      Nirvana                                                    $44.10  \n",
       "145     Fiery Glass Crusader                                       $41.22  \n",
       "103     Singed Scalpel                                             $34.80  "
      ]
     },
     "execution_count": 20,
     "metadata": {},
     "output_type": "execute_result"
    }
   ],
   "source": [
    "total_value_popular_df = popular_items_df.sort_values([\"Total Purchase Value\"], ascending= False)\n",
    "\n",
    "total_value_popular_df[\"Item Price\"] = total_value_popular_df[\"Item Price\"].map(\"${:,.2f}\".format)\n",
    "total_value_popular_df[\"Total Purchase Value\"] = total_value_popular_df[\"Total Purchase Value\"].map(\"${:,.2f}\".format)\n",
    "total_value_popular_df.head()"
   ]
  },
  {
   "cell_type": "code",
   "execution_count": null,
   "metadata": {},
   "outputs": [],
   "source": []
  }
 ],
 "metadata": {
  "anaconda-cloud": {},
  "kernel_info": {
   "name": "python3"
  },
  "kernelspec": {
   "display_name": "Python 3",
   "language": "python",
   "name": "python3"
  },
  "language_info": {
   "codemirror_mode": {
    "name": "ipython",
    "version": 3
   },
   "file_extension": ".py",
   "mimetype": "text/x-python",
   "name": "python",
   "nbconvert_exporter": "python",
   "pygments_lexer": "ipython3",
   "version": "3.8.5"
  },
  "latex_envs": {
   "LaTeX_envs_menu_present": true,
   "autoclose": false,
   "autocomplete": true,
   "bibliofile": "biblio.bib",
   "cite_by": "apalike",
   "current_citInitial": 1,
   "eqLabelWithNumbers": true,
   "eqNumInitial": 1,
   "hotkeys": {
    "equation": "Ctrl-E",
    "itemize": "Ctrl-I"
   },
   "labels_anchors": false,
   "latex_user_defs": false,
   "report_style_numbering": false,
   "user_envs_cfg": false
  },
  "nteract": {
   "version": "0.2.0"
  }
 },
 "nbformat": 4,
 "nbformat_minor": 2
}
